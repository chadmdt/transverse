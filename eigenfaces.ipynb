{
 "metadata": {
  "language_info": {
   "codemirror_mode": {
    "name": "ipython",
    "version": 3
   },
   "file_extension": ".py",
   "mimetype": "text/x-python",
   "name": "python",
   "nbconvert_exporter": "python",
   "pygments_lexer": "ipython3",
   "version": "3.9.5"
  },
  "orig_nbformat": 2,
  "kernelspec": {
   "name": "python395jvsc74a57bd0aee8b7b246df8f9039afb4144a1f6fd8d2ca17a180786b69acc140d282b71a49",
   "display_name": "Python 3.9.5 64-bit"
  },
  "metadata": {
   "interpreter": {
    "hash": "aee8b7b246df8f9039afb4144a1f6fd8d2ca17a180786b69acc140d282b71a49"
   }
  }
 },
 "nbformat": 4,
 "nbformat_minor": 2,
 "cells": [
  {
   "source": [
    "Importations"
   ],
   "cell_type": "markdown",
   "metadata": {}
  },
  {
   "cell_type": "code",
   "execution_count": 4,
   "metadata": {},
   "outputs": [],
   "source": [
    "import matplotlib.pyplot as plt\n",
    "import numpy\n",
    "import csv\n",
    "\n",
    "from sklearn.decomposition import PCA\n",
    "from sklearn.svm import SVC\n",
    "\n",
    "from PIL import Image"
   ]
  },
  {
   "source": [
    "# Preparation"
   ],
   "cell_type": "markdown",
   "metadata": {}
  },
  {
   "source": [
    "The path for the file \"total.csv\" and the folder \"ImagesBruitees\""
   ],
   "cell_type": "markdown",
   "metadata": {}
  },
  {
   "cell_type": "code",
   "execution_count": null,
   "metadata": {},
   "outputs": [],
   "source": [
    "path_total = 'total.csv'\n",
    "path_one_noisy = 'ImagesBruitees/output0.jpg'"
   ]
  },
  {
   "source": [
    "The file \"total.csv\" is transformed in a numpy array"
   ],
   "cell_type": "markdown",
   "metadata": {}
  },
  {
   "source": [
    "a = numpy.genfromtxt(path_total, delimiter = ';') # \"total.csv\" is the csv of 10 protein's potential\n",
    "a = a.T # Shape goes from (10000, 10) to (10, 10000)\n",
    "\n",
    "#print (a.shape)"
   ],
   "cell_type": "code",
   "metadata": {},
   "execution_count": null,
   "outputs": []
  },
  {
   "source": [
    "Names of the 10 protein"
   ],
   "cell_type": "markdown",
   "metadata": {}
  },
  {
   "cell_type": "code",
   "execution_count": null,
   "metadata": {},
   "outputs": [],
   "source": [
    "names = ['1A2Y', '1A3R', '1A14', '1ADQ', '1AFV', '1AHW', '1BGX', '1BJ1', '1BVK', '1C1P']"
   ]
  },
  {
   "source": [
    "# PCA"
   ],
   "cell_type": "markdown",
   "metadata": {}
  },
  {
   "source": [
    "Principal composant analysis"
   ],
   "cell_type": "markdown",
   "metadata": {}
  },
  {
   "cell_type": "code",
   "execution_count": null,
   "metadata": {},
   "outputs": [],
   "source": [
    "n_components = 5\n",
    "pca = PCA(n_components=n_components, svd_solver='randomized', whiten=True).fit(a)\n",
    "eigenfaces = pca.components_ #.reshape((n_components, 100, 100))\n",
    "\n",
    "#print(eigenfaces.shape)\n",
    "#print(type(eigenfaces))"
   ]
  },
  {
   "source": [
    "PCA transformation to have the eigenfaces"
   ],
   "cell_type": "markdown",
   "metadata": {}
  },
  {
   "cell_type": "code",
   "execution_count": null,
   "metadata": {},
   "outputs": [],
   "source": [
    "pca_tr = pca.transform(a)\n",
    "\n",
    "#print(X_train_pca.shape)\n",
    "#print(a[0])\n",
    "#print(pca.transform(a[0:]))"
   ]
  },
  {
   "source": [
    "Eigenfaces images"
   ],
   "cell_type": "markdown",
   "metadata": {}
  },
  {
   "cell_type": "code",
   "execution_count": null,
   "metadata": {},
   "outputs": [],
   "source": [
    "def turn_to_img(i):\n",
    "    result = numpy.matmul(pca_tr[i], eigenfaces)\n",
    "    #print(\"result = \", result)\n",
    "    plt.imshow(result.reshape(100,100), cmap = plt.cm.gray)\n",
    "\n",
    "for i in range(10):\n",
    "    turn_to_img(i)"
   ]
  },
  {
   "source": [
    "# Test"
   ],
   "cell_type": "markdown",
   "metadata": {}
  },
  {
   "source": [
    "Image to CSV and PCA test"
   ],
   "cell_type": "markdown",
   "metadata": {}
  },
  {
   "cell_type": "code",
   "execution_count": null,
   "metadata": {},
   "outputs": [],
   "source": [
    "img = Image.open(path_one_noisy) # \"ImagesBruitees\" is a folder with original images and noisy images of the 10 protein\n",
    "img_array = numpy.asarray(img) # Transform into numpy array\n",
    "#print(img_array.shape)\n",
    "pca_test = PCA(n_components = n_components, svd_solver = 'randomized', whiten = True).fit(img_array[:,:,0])\n",
    "eigenfaces_test = pca_test.components_\n",
    "\n",
    "#print(eigenfaces.shape)\n",
    "#print(eigenfaces_test.shape)"
   ]
  },
  {
   "source": [
    "Euclidean distance"
   ],
   "cell_type": "markdown",
   "metadata": {}
  },
  {
   "cell_type": "code",
   "execution_count": null,
   "metadata": {},
   "outputs": [],
   "source": [
    "dist_min = 1000\n",
    "nb_min = 0\n",
    "for i in range(10):\n",
    "    for j in range(100):\n",
    "        dist = numpy.hypot(eigenfaces_test[:,j], eigenfaces[:,i])\n",
    "\"\"\"     # This part doesn't work\n",
    "        #print(dist)\n",
    "        if(dist < dist_min):\n",
    "            dist_min = dist\n",
    "            nb_min = i\n",
    "print(names[nb_min])\n",
    "\"\"\""
   ]
  }
 ]
}